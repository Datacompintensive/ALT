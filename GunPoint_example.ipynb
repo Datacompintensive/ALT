{
 "cells": [
  {
   "cell_type": "code",
   "execution_count": 1,
   "metadata": {},
   "outputs": [],
   "source": [
    "# Imports\n",
    "from ALT import *\n",
    "# Loads the data from https://www.timeseriesclassification.com/\n",
    "from aeon.datasets import load_classification"
   ]
  },
  {
   "cell_type": "code",
   "execution_count": 2,
   "metadata": {},
   "outputs": [],
   "source": [
    "# Import data from aeon\n",
    "X, y = load_classification(\"GunPoint\")\n",
    "y = y.astype(np.int8)\n",
    "# The data is shuffled\n",
    "learn_set, transform_set = X[:10], X[10:]\n",
    "learn_classes, transform_classes = y[:10], y[10:]"
   ]
  },
  {
   "cell_type": "code",
   "execution_count": 3,
   "metadata": {},
   "outputs": [],
   "source": [
    "# Seting the parameters\n",
    "R, L, K = 25, 4, 1\n",
    "extr_methods = [[\"mean_all\"], [\"mean\", 0.05]]\n",
    "device = \"cuda\" if torch.cuda.is_available() else \"cpu\""
   ]
  },
  {
   "cell_type": "code",
   "execution_count": 6,
   "metadata": {},
   "outputs": [],
   "source": [
    "#Transform the data\n",
    "alt = ALT(learn_set, learn_classes, R=R, L=L, K=K, device=device)\n",
    "alt.train()\n",
    "transformed_set = alt.transform_set(transform_set, extr_methods=extr_methods,\n",
    "                                    test_classes=transform_classes, \n",
    "                                    save_file_name=\"results/GunPoint_results.csv\", \n",
    "                                    save_file_mode=\"New file\")"
   ]
  }
 ],
 "metadata": {
  "kernelspec": {
   "display_name": "CompPhys",
   "language": "python",
   "name": "python3"
  },
  "language_info": {
   "codemirror_mode": {
    "name": "ipython",
    "version": 3
   },
   "file_extension": ".py",
   "mimetype": "text/x-python",
   "name": "python",
   "nbconvert_exporter": "python",
   "pygments_lexer": "ipython3",
   "version": "3.9.21"
  }
 },
 "nbformat": 4,
 "nbformat_minor": 2
}
